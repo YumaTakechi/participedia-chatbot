{
 "cells": [
  {
   "cell_type": "code",
   "execution_count": 52,
   "metadata": {},
   "outputs": [],
   "source": [
    "import pandas as pd\n",
    "from bertopic import BERTopic\n",
    "from sentence_transformers import SentenceTransformer\n",
    "from sklearn.feature_extraction.text import CountVectorizer\n",
    "from umap import UMAP\n",
    "import numpy as np\n",
    "import re\n",
    "import pickle"
   ]
  },
  {
   "cell_type": "code",
   "execution_count": 58,
   "metadata": {},
   "outputs": [],
   "source": [
    "cases_df = pd.read_csv('../cases.csv')\n",
    "cases_sample = cases_df[:10].dropna(subset=['body']).fillna('')\n",
    "index_to_case = {i: row for i, row in enumerate(cases_sample.index)}"
   ]
  },
  {
   "cell_type": "code",
   "execution_count": 60,
   "metadata": {},
   "outputs": [],
   "source": [
    "# with open(\"index_to_case.pkl\", \"wb\") as f:\n",
    "#     pickle.dump(index_to_case, f)"
   ]
  },
  {
   "cell_type": "code",
   "execution_count": 34,
   "metadata": {},
   "outputs": [],
   "source": [
    "# Remove URLs and special texts\n",
    "def clean_text(text):\n",
    "    \"\"\" \n",
    "    Remove URLs, special characters, white space, and lower case\n",
    "\n",
    "    :param text: str\n",
    "    :return: str\n",
    "    \"\"\"\n",
    "\n",
    "    text = re.sub(r'https?://\\S+', '', text)\n",
    "    text = re.sub(r'[^A-Za-z0-9\\s.,?]', '', text)\n",
    "    text = text.strip().lower()\n",
    "    return text"
   ]
  },
  {
   "cell_type": "code",
   "execution_count": 35,
   "metadata": {},
   "outputs": [],
   "source": [
    "# Extract relevant text columns, and clean text to create document\n",
    "documents = []\n",
    "for index, row in cases_sample.iterrows():\n",
    "    text = '-'.join([(row['title']), (row['description']), (row['body'])])\n",
    "    document = clean_text(text)\n",
    "    documents.append(document)"
   ]
  },
  {
   "cell_type": "code",
   "execution_count": 39,
   "metadata": {},
   "outputs": [],
   "source": [
    "# Pre-calculating embeddings\n",
    "embedding_model = SentenceTransformer(\"all-MiniLM-L6-v2\")\n",
    "embeddings = embedding_model.encode(documents)"
   ]
  },
  {
   "cell_type": "code",
   "execution_count": 47,
   "metadata": {},
   "outputs": [],
   "source": [
    "umap_model = UMAP(n_neighbors=15, n_components=5, min_dist=0.0, metric='cosine', random_state=42)\n",
    "vectorizer_model = CountVectorizer(stop_words=\"english\", ngram_range=(1, 2))"
   ]
  },
  {
   "cell_type": "code",
   "execution_count": 48,
   "metadata": {},
   "outputs": [],
   "source": [
    "bertopic_model = BERTopic(\n",
    "    umap_model=umap_model,\n",
    "    vectorizer_model=vectorizer_model,\n",
    "    top_n_words=10,\n",
    "    verbose=True)"
   ]
  },
  {
   "cell_type": "code",
   "execution_count": 49,
   "metadata": {},
   "outputs": [
    {
     "name": "stderr",
     "output_type": "stream",
     "text": [
      "2025-02-17 20:52:45,152 - BERTopic - Dimensionality - Fitting the dimensionality reduction algorithm\n",
      "2025-02-17 20:52:45,170 - BERTopic - Dimensionality - Completed ✓\n",
      "2025-02-17 20:52:45,170 - BERTopic - Cluster - Start clustering the reduced embeddings\n",
      "2025-02-17 20:52:45,172 - BERTopic - Cluster - Completed ✓\n",
      "2025-02-17 20:52:45,174 - BERTopic - Representation - Extracting topics from clusters using representation models.\n",
      "2025-02-17 20:52:45,211 - BERTopic - Representation - Completed ✓\n"
     ]
    }
   ],
   "source": [
    "topics, probs = bertopic_model.fit_transform(documents, embeddings)"
   ]
  },
  {
   "cell_type": "code",
   "execution_count": 51,
   "metadata": {},
   "outputs": [],
   "source": [
    "np.save('sample_case_embeddings.npy', embeddings)"
   ]
  }
 ],
 "metadata": {
  "kernelspec": {
   "display_name": "Python 3",
   "language": "python",
   "name": "python3"
  },
  "language_info": {
   "codemirror_mode": {
    "name": "ipython",
    "version": 3
   },
   "file_extension": ".py",
   "mimetype": "text/x-python",
   "name": "python",
   "nbconvert_exporter": "python",
   "pygments_lexer": "ipython3",
   "version": "3.9.6"
  }
 },
 "nbformat": 4,
 "nbformat_minor": 2
}
