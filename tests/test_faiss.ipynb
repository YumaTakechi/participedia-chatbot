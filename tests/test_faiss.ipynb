{
 "cells": [
  {
   "cell_type": "code",
   "execution_count": 55,
   "metadata": {},
   "outputs": [],
   "source": [
    "import faiss\n",
    "import numpy as np\n",
    "from sentence_transformers import SentenceTransformer\n",
    "import pickle\n",
    "import pandas as pd"
   ]
  },
  {
   "cell_type": "code",
   "execution_count": 56,
   "metadata": {},
   "outputs": [],
   "source": [
    "cases_df = pd.read_csv('../cases.csv')\n",
    "cases_sample = cases_df[:10].dropna(subset=['body']).fillna('')\n",
    "index_to_case = {i: row for i, row in enumerate(cases_sample.index)}"
   ]
  },
  {
   "cell_type": "code",
   "execution_count": 9,
   "metadata": {},
   "outputs": [],
   "source": [
    "sbert_model = SentenceTransformer(\"all-MiniLM-L6-v2\")"
   ]
  },
  {
   "cell_type": "code",
   "execution_count": 29,
   "metadata": {},
   "outputs": [],
   "source": [
    "def generate_query_embedding(user_query):\n",
    "    \"\"\"\n",
    "    Generates query embeddings using SBERT.\n",
    "    \n",
    "    :param user_query: str, the user input query\n",
    "    :return: np.ndarray, the query embeddings as vector representations\n",
    "    \"\"\"\n",
    "    query_embedding = sbert_model.encode(user_query).astype(\"float32\")\n",
    "\n",
    "    return query_embedding"
   ]
  },
  {
   "cell_type": "code",
   "execution_count": 69,
   "metadata": {},
   "outputs": [],
   "source": [
    "# Define example user query and create a query embedding\n",
    "user_query = \"I am looking for cases about election in Canada\"\n",
    "query_embedding = generate_query_embedding(user_query).reshape(1, -1)\n"
   ]
  },
  {
   "cell_type": "code",
   "execution_count": 34,
   "metadata": {},
   "outputs": [],
   "source": [
    "# Load case embeddings from the np file\n",
    "case_embeddings = np.load('sample_case_embeddings.npy').astype('float32')"
   ]
  },
  {
   "cell_type": "code",
   "execution_count": 50,
   "metadata": {},
   "outputs": [],
   "source": [
    "# Create and add FAISS index to case embeddings\n",
    "dimension = case_embeddings.shape[1]\n",
    "index = faiss.IndexFlatL2(dimension)\n",
    "index.add(case_embeddings)"
   ]
  },
  {
   "cell_type": "code",
   "execution_count": 51,
   "metadata": {},
   "outputs": [],
   "source": [
    "with open(\"index_to_case.pkl\", \"rb\") as f:\n",
    "    index_to_case = pickle.load(f)"
   ]
  },
  {
   "cell_type": "code",
   "execution_count": 71,
   "metadata": {},
   "outputs": [],
   "source": [
    "def faiss_search(query_embedding, top_n):\n",
    "    \"\"\"\n",
    "    Searches FAISS index for the top N most similar cases to a query.\n",
    "\n",
    "    :param query: str, the user query\n",
    "    :param top_n: int, number of top matches to return\n",
    "    :return: list of top matching cases with similarity scores\n",
    "\n",
    "    \"\"\"\n",
    "\n",
    "    # Perform search in FAISS index\n",
    "    faiss_result = index.search(query_embedding, top_n)\n",
    "\n",
    "    return faiss_result"
   ]
  },
  {
   "cell_type": "code",
   "execution_count": 72,
   "metadata": {},
   "outputs": [],
   "source": [
    "faiss_result_tuple = faiss_search(query_embedding, 1)\n",
    "distances, faiss_indices = faiss_result_tuple"
   ]
  },
  {
   "cell_type": "code",
   "execution_count": 73,
   "metadata": {},
   "outputs": [],
   "source": [
    "def faiss_results(distances, faiss_indices, index_to_case, cases_df): \n",
    "    results = {}\n",
    "\n",
    "    for i in range(len(faiss_indices[0])):\n",
    "        faiss_idx = faiss_indices[0][i] \n",
    "        dist = distances[0][i]\n",
    "        \n",
    "        original_row = index_to_case.get(faiss_idx)\n",
    "\n",
    "        results[i] = {\n",
    "            'faiss_index': faiss_idx,\n",
    "            'distance': dist,\n",
    "            'original_row': original_row,\n",
    "            'case_id': cases_df.at[original_row, 'id'],\n",
    "            'title': cases_df.at[original_row, 'title'],\n",
    "            'url': cases_df.at[original_row, 'url']\n",
    "        }\n",
    "        print(results[i]['url'])\n",
    "    return results"
   ]
  },
  {
   "cell_type": "code",
   "execution_count": 74,
   "metadata": {},
   "outputs": [
    {
     "name": "stdout",
     "output_type": "stream",
     "text": [
      "https://participedia.net/case/1\n"
     ]
    }
   ],
   "source": [
    "results = faiss_results(distances, faiss_indices, index_to_case, cases_sample)\n"
   ]
  }
 ],
 "metadata": {
  "kernelspec": {
   "display_name": "Python 3",
   "language": "python",
   "name": "python3"
  },
  "language_info": {
   "codemirror_mode": {
    "name": "ipython",
    "version": 3
   },
   "file_extension": ".py",
   "mimetype": "text/x-python",
   "name": "python",
   "nbconvert_exporter": "python",
   "pygments_lexer": "ipython3",
   "version": "3.9.6"
  }
 },
 "nbformat": 4,
 "nbformat_minor": 2
}
